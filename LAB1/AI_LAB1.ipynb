{
 "cells": [
  {
   "cell_type": "code",
   "execution_count": 7,
   "id": "4ec2180c-99c6-4226-9801-7ef6a4e7dd56",
   "metadata": {},
   "outputs": [
    {
     "name": "stdout",
     "output_type": "stream",
     "text": [
      "_| _| _\n",
      "_| _| _\n",
      "_| _| _\n",
      "---------\n"
     ]
    },
    {
     "name": "stdin",
     "output_type": "stream",
     "text": [
      "Enter row (0-2):  0\n",
      "Enter column (0-2):  1\n"
     ]
    },
    {
     "name": "stdout",
     "output_type": "stream",
     "text": [
      "_| X| _\n",
      "_| _| _\n",
      "_| _| _\n",
      "---------\n",
      "Computer's turn...\n",
      "_| X| _\n",
      "_| _| _\n",
      "O| _| _\n",
      "---------\n"
     ]
    },
    {
     "name": "stdin",
     "output_type": "stream",
     "text": [
      "Enter row (0-2):  2\n",
      "Enter column (0-2):  2\n"
     ]
    },
    {
     "name": "stdout",
     "output_type": "stream",
     "text": [
      "_| X| _\n",
      "_| _| _\n",
      "O| _| X\n",
      "---------\n",
      "Computer's turn...\n",
      "_| X| _\n",
      "_| _| _\n",
      "O| O| X\n",
      "---------\n"
     ]
    },
    {
     "name": "stdin",
     "output_type": "stream",
     "text": [
      "Enter row (0-2):  1\n",
      "Enter column (0-2):  1\n"
     ]
    },
    {
     "name": "stdout",
     "output_type": "stream",
     "text": [
      "_| X| _\n",
      "_| X| _\n",
      "O| O| X\n",
      "---------\n",
      "Computer's turn...\n",
      "_| X| _\n",
      "O| X| _\n",
      "O| O| X\n",
      "---------\n"
     ]
    },
    {
     "name": "stdin",
     "output_type": "stream",
     "text": [
      "Enter row (0-2):  0\n",
      "Enter column (0-2):  0\n"
     ]
    },
    {
     "name": "stdout",
     "output_type": "stream",
     "text": [
      "X| X| _\n",
      "O| X| _\n",
      "O| O| X\n",
      "---------\n",
      "Congratulations! You win!\n"
     ]
    }
   ],
   "source": [
    "\n",
    "import random\n",
    "def check(row, col):\n",
    "    if arr[row][col] == '_':\n",
    "        return True\n",
    "    else:\n",
    "        return False\n",
    "\n",
    "def check2():\n",
    "    for i in range(3):\n",
    "        for j in range(3):\n",
    "            if arr[i][j] == '_':\n",
    "                return True\n",
    "    return False\n",
    "\n",
    "def print_board():\n",
    "    for row in arr:\n",
    "        print(\"| \".join(row))\n",
    "    print(\"-\" * 9)\n",
    "\n",
    "def check_win(player):\n",
    "    for i in range(3):\n",
    "        if all([arr[i][j] == player for j in range(3)]):\n",
    "            return True\n",
    "        if all([arr[j][i] == player for j in range(3)]):\n",
    "            return True\n",
    "    if arr[0][0] == player and arr[1][1] == player and arr[2][2] == player:\n",
    "        return True\n",
    "    if arr[0][2] == player and arr[1][1] == player and arr[2][0] == player:\n",
    "        return True\n",
    "    return False\n",
    "\n",
    "arr = [['_', '_', '_'],\n",
    "       ['_', '_', '_'],\n",
    "       ['_', '_', '_']]\n",
    "print_board()\n",
    "while check2():\n",
    "    row = int(input(\"Enter row (0-2): \"))\n",
    "    col = int(input(\"Enter column (0-2): \"))\n",
    "    while not check(row, col):\n",
    "        print(\"Place already occupied, try again.\")\n",
    "        row = int(input(\"Enter row (0-2): \"))\n",
    "        col = int(input(\"Enter column (0-2): \"))\n",
    "    arr[row][col] = 'X'\n",
    "    print_board()\n",
    "    if check_win('X'):\n",
    "        print(\"Congratulations! You win!\")\n",
    "        break\n",
    "    if not check2():\n",
    "        print(\"It's a draw!\")\n",
    "        break\n",
    "    print(\"Computer's turn...\")\n",
    "    row, col = random.randint(0, 2), random.randint(0, 2)\n",
    "    while not check(row, col):\n",
    "        row, col = random.randint(0, 2), random.randint(0, 2)\n",
    "    arr[row][col] = 'O'\n",
    "    print_board()\n",
    "    if check_win('O'):\n",
    "        print(\"Computer wins! Better luck next time.\")\n",
    "        break\n",
    "    if not check2():\n",
    "        print(\"It's a draw!\")\n",
    "        break\n"
   ]
  },
  {
   "cell_type": "code",
   "execution_count": 6,
   "id": "f84473cc-110a-4924-aaa1-b06566183215",
   "metadata": {},
   "outputs": [
    {
     "name": "stdin",
     "output_type": "stream",
     "text": [
      "Enter Location of Vacuum (A or B):  {'B': '0', 'A': '0'}\n",
      "Enter status of {'B': '0', 'A': '0'} (0=Clean, 1=Dirty):  {0,1}\n",
      "Enter status of other room (0=Clean, 1=Dirty):  {0}\n"
     ]
    },
    {
     "name": "stdout",
     "output_type": "stream",
     "text": [
      "Initial Goal State (all clean): {'A': '0', 'B': '0'}\n",
      "Vacuum is placed in Location B\n",
      "Location B already clean.\n",
      "Location A already clean.\n",
      "GOAL STATE: {'A': '0', 'B': '0'}\n",
      "Performance Measurement (Total Cost): 0\n"
     ]
    }
   ],
   "source": [
    "def vacuum_world():\n",
    "    # initializing goal_state\n",
    "    # 0 indicates Clean and 1 indicates Dirty\n",
    "    goal_state = {'A': '0', 'B': '0'}\n",
    "    cost = 0\n",
    "\n",
    "    # User inputs\n",
    "    location_input = input(\"Enter Location of Vacuum (A or B): \").upper()\n",
    "    status_input = input(\"Enter status of \" + location_input + \" (0=Clean, 1=Dirty): \")\n",
    "    status_input_complement = input(\"Enter status of other room (0=Clean, 1=Dirty): \")\n",
    "\n",
    "    print(\"Initial Goal State (all clean):\", goal_state)\n",
    "\n",
    "    if location_input == 'A':\n",
    "        print(\"Vacuum is placed in Location A\")\n",
    "\n",
    "        if status_input == '1':\n",
    "            print(\"Location A is Dirty.\")\n",
    "            goal_state['A'] = '0'   # Clean it\n",
    "            cost += 1\n",
    "            print(\"CLEANED A | Cost:\", cost)\n",
    "        else:\n",
    "            print(\"Location A already clean.\")\n",
    "\n",
    "        if status_input_complement == '1':\n",
    "            print(\"Location B is Dirty.\")\n",
    "            cost += 1   # move right\n",
    "            print(\"Moved RIGHT | Cost:\", cost)\n",
    "            goal_state['B'] = '0'   # Clean it\n",
    "            cost += 1\n",
    "            print(\"CLEANED B | Cost:\", cost)\n",
    "        else:\n",
    "            print(\"Location B already clean.\")\n",
    "\n",
    "    else:  # Vacuum placed in B\n",
    "        print(\"Vacuum is placed in Location B\")\n",
    "\n",
    "        if status_input == '1':\n",
    "            print(\"Location B is Dirty.\")\n",
    "            goal_state['B'] = '0'\n",
    "            cost += 1\n",
    "            print(\"CLEANED B | Cost:\", cost)\n",
    "        else:\n",
    "            print(\"Location B already clean.\")\n",
    "\n",
    "        if status_input_complement == '1':\n",
    "            print(\"Location A is Dirty.\")\n",
    "            cost += 1   # move left\n",
    "            print(\"Moved LEFT | Cost:\", cost)\n",
    "            goal_state['A'] = '0'\n",
    "            cost += 1\n",
    "            print(\"CLEANED A | Cost:\", cost)\n",
    "        else:\n",
    "            print(\"Location A already clean.\")\n",
    "\n",
    "    # Final state\n",
    "    print(\"GOAL STATE:\", goal_state)\n",
    "    print(\"Performance Measurement (Total Cost):\", cost)\n",
    "\n",
    "\n",
    "# Run\n",
    "vacuum_world()"
   ]
  },
  {
   "cell_type": "code",
   "execution_count": null,
   "id": "357fd460-862b-4012-a2e0-0a2304a31c46",
   "metadata": {},
   "outputs": [],
   "source": []
  }
 ],
 "metadata": {
  "kernelspec": {
   "display_name": "Python [conda env:base] *",
   "language": "python",
   "name": "conda-base-py"
  },
  "language_info": {
   "codemirror_mode": {
    "name": "ipython",
    "version": 3
   },
   "file_extension": ".py",
   "mimetype": "text/x-python",
   "name": "python",
   "nbconvert_exporter": "python",
   "pygments_lexer": "ipython3",
   "version": "3.12.7"
  }
 },
 "nbformat": 4,
 "nbformat_minor": 5
}
